{
  "nbformat": 4,
  "nbformat_minor": 0,
  "metadata": {
    "colab": {
      "provenance": [],
      "mount_file_id": "1F_6wwXHMmZknzkAPQHtDP0l7TZf2qHUd",
      "authorship_tag": "ABX9TyPvBaFNQcNcO9PZ7Cn7w29C",
      "include_colab_link": true
    },
    "kernelspec": {
      "name": "python3",
      "display_name": "Python 3"
    },
    "language_info": {
      "name": "python"
    }
  },
  "cells": [
    {
      "cell_type": "markdown",
      "metadata": {
        "id": "view-in-github",
        "colab_type": "text"
      },
      "source": [
        "<a href=\"https://colab.research.google.com/github/Burgerjoa/beonagada/blob/main/Untitled51.ipynb\" target=\"_parent\"><img src=\"https://colab.research.google.com/assets/colab-badge.svg\" alt=\"Open In Colab\"/></a>"
      ]
    },
    {
      "cell_type": "code",
      "execution_count": null,
      "metadata": {
        "id": "X6YeZbzsMreP",
        "colab": {
          "base_uri": "https://localhost:8080/"
        },
        "outputId": "cbd27e01-9a3a-488d-ea55-e50375ec5c7b"
      },
      "outputs": [
        {
          "output_type": "stream",
          "name": "stdout",
          "text": [
            "4\n",
            "a는 짝수\n"
          ]
        }
      ],
      "source": [
        "#1. 정수 하나를 입력받아 그 수가 짝수인지, 홀수인지를 판별하는 프로그램을 작성하시오\n",
        "a=int(input())\n",
        "if a%2==0:\n",
        "    b='짝수'\n",
        "else:\n",
        "    b='홀수'\n",
        "print('a는',b)"
      ]
    },
    {
      "cell_type": "code",
      "source": [
        "#2  두 정수 a, b를 입력받아 더 큰 수를 구하여 출력하는 프로그램을 작성하시오.\n",
        "a=int(input())\n",
        "b=int(input())\n",
        "if a>b:\n",
        "    print(a)\n",
        "elif b>a:\n",
        "    print(b)\n"
      ],
      "metadata": {
        "colab": {
          "base_uri": "https://localhost:8080/"
        },
        "id": "eheYJXUi6nwR",
        "outputId": "101e8866-5e4d-404c-e34b-2ef8c39bbbe7"
      },
      "execution_count": null,
      "outputs": [
        {
          "output_type": "stream",
          "name": "stdout",
          "text": [
            "7\n",
            "3\n",
            "7\n"
          ]
        }
      ]
    },
    {
      "cell_type": "code",
      "source": [
        "#3. 임의의 두 정수를 입력받아 큰수에서 작은 수를 뺀 결과와 나눈 결과를 출력하는 프로그램을 작성하시오.\n",
        "a=int(input())\n",
        "b=int(input())\n",
        "if a>b:\n",
        "    print(a-b)\n",
        "    print(a/b)\n",
        "elif b>a:\n",
        "    print(b-a)\n",
        "    print(b/a)"
      ],
      "metadata": {
        "id": "0lhpQomx7JU9",
        "colab": {
          "base_uri": "https://localhost:8080/"
        },
        "outputId": "2c13a553-9ee8-4c73-930f-a9af914d2bb2"
      },
      "execution_count": null,
      "outputs": [
        {
          "output_type": "stream",
          "name": "stdout",
          "text": [
            "4\n",
            "9\n",
            "5\n",
            "2.25\n"
          ]
        }
      ]
    },
    {
      "cell_type": "code",
      "source": [
        "#4. 임의의 정수 a를 입력받아 1~10 범위의 수이면 “OK\"를, 그렇지 않으면 ”NOK\"를 출력하시오.\n",
        "a=int(input())\n",
        "if 1<a<10:\n",
        "    print('OK')\n",
        "else:\n",
        "    print('NOK')"
      ],
      "metadata": {
        "colab": {
          "base_uri": "https://localhost:8080/"
        },
        "id": "7NAtsFcT7M7c",
        "outputId": "452225c9-fc10-471e-8f72-a4b5006e16bf"
      },
      "execution_count": null,
      "outputs": [
        {
          "output_type": "stream",
          "name": "stdout",
          "text": [
            "5\n",
            "OK\n"
          ]
        }
      ]
    },
    {
      "cell_type": "code",
      "source": [
        "#5. 임의의 정수 a를 입력받아 1이하이거나 10 이상의 수이면 “OK\"를, 그렇지 않으면 ”NOK\"를 출력.\n",
        "a=int(input())\n",
        "if (a<=1 or a>=10):\n",
        "    print('OK')\n",
        "else:\n",
        "    print('NOK')"
      ],
      "metadata": {
        "id": "Gonb_0Ci7QGD",
        "colab": {
          "base_uri": "https://localhost:8080/"
        },
        "outputId": "20e54f42-774b-42a4-a36e-dbbfab837b08"
      },
      "execution_count": null,
      "outputs": [
        {
          "output_type": "stream",
          "name": "stdout",
          "text": [
            "-4\n",
            "OK\n"
          ]
        }
      ]
    },
    {
      "cell_type": "code",
      "source": [
        "#6. 입력된 실수가 [1~10) 사이이면 입력값의 2배 값을 출력하고, 그렇지 않으면 3배 값을 출력하는 프로그램을 작성하시오. \n",
        "a=int(input())\n",
        "if 0<=a<10:\n",
        "    print(2*a)\n",
        "else:\n",
        "    print(3*a)"
      ],
      "metadata": {
        "id": "AeDEt_pF7RxQ"
      },
      "execution_count": null,
      "outputs": []
    },
    {
      "cell_type": "code",
      "source": [
        "#7. 임의의 문자를 입력받아 그 문자가 대문자인지 아닌지를 판별하는 프로그램을 작성하시오. \n",
        "a=input()\n",
        "print(a.isupper())"
      ],
      "metadata": {
        "id": "DzIZT2wD7XZq",
        "colab": {
          "base_uri": "https://localhost:8080/"
        },
        "outputId": "8dc57729-1c6f-477d-b42e-1f4d1a60e5b5"
      },
      "execution_count": null,
      "outputs": [
        {
          "name": "stdout",
          "output_type": "stream",
          "text": [
            "a\n"
          ]
        },
        {
          "output_type": "execute_result",
          "data": {
            "text/plain": [
              "False"
            ]
          },
          "metadata": {},
          "execution_count": 8
        }
      ]
    },
    {
      "cell_type": "code",
      "source": [
        "#8. 임의의 문자 ch를 입력받아 그 문자가 'y' 또는 'Y' 또는 개행문자(‘\\n')이면 “OK\"를, 그렇지 않으면 ”NOK\"를 출력하시오.\n",
        "ch=input()\n",
        "if ch=='y' or ch=='Y' or '\\n':\n",
        "    print('OK')\n",
        "else:\n",
        "    print('NOK')"
      ],
      "metadata": {
        "id": "JSIVRcJx7ZD-"
      },
      "execution_count": null,
      "outputs": []
    },
    {
      "cell_type": "code",
      "source": [
        "#9. 임의의 문자를 입력받아 대문자인지, 소문자인지, 기타의 문자인지를 판별하는 프로그램을 작성하시오.\n",
        "a=input()\n",
        "if a.isupper:\n",
        "    print('대문자')\n",
        "elif a.islower:\n",
        "    print('소문자')\n",
        "else:\n",
        "    print('기타 문자')"
      ],
      "metadata": {
        "id": "zs8erUnm7a78"
      },
      "execution_count": null,
      "outputs": []
    },
    {
      "cell_type": "code",
      "source": [
        "#10. 임의의 정수 a를 입력받아 [1..10] 범위의 수가 아니면 “ERROR\"를 출력하고, 1~10 범위의 수이지만 3의 배수가 아니면 “OK\"를, 그렇지 않으면 ”NOK\"를 출력하시오. (반복문 프로그래밍 문제)\n",
        "a=int(input())\n",
        "if 1<=a<=10:\n",
        "    if (a%3)!=0:\n",
        "        print('OK')\n",
        "    else:\n",
        "        print('NOK')\n",
        "else:\n",
        "    print('ERROR')"
      ],
      "metadata": {
        "id": "zlaAvnBw7dJV"
      },
      "execution_count": null,
      "outputs": []
    },
    {
      "cell_type": "code",
      "source": [
        "#11. 임의의 양의 정수 n을 입력받아 1에서 n까지의 합을 구하시오.\n",
        "a=int(input())\n",
        "b=0\n",
        "for i in range(a+1):\n",
        "    b=b+i\n",
        "print(b)"
      ],
      "metadata": {
        "id": "awfrtMut7fX3",
        "colab": {
          "base_uri": "https://localhost:8080/"
        },
        "outputId": "2f04b4d6-02ef-466a-e98a-97fc50bae0c8"
      },
      "execution_count": 11,
      "outputs": [
        {
          "output_type": "stream",
          "name": "stdout",
          "text": [
            "10\n",
            "55\n"
          ]
        }
      ]
    },
    {
      "cell_type": "code",
      "source": [
        "#12. 임의의 양의 정수 n을 입력받아 n!을 구하시오.\n",
        "a=int(input())\n",
        "b=1\n",
        "for i in range(a):\n",
        "    b=b*(i+1)\n",
        "print(b)"
      ],
      "metadata": {
        "id": "ycbB59dS7ikn",
        "colab": {
          "base_uri": "https://localhost:8080/"
        },
        "outputId": "2d156a25-f3f5-44ae-96d8-dae06cb7e15d"
      },
      "execution_count": 14,
      "outputs": [
        {
          "output_type": "stream",
          "name": "stdout",
          "text": [
            "4\n",
            "24\n"
          ]
        }
      ]
    },
    {
      "cell_type": "code",
      "source": [
        "#13. 두 정수 a, b를 입력받아 [a, b] 사이의 홀수의 개수와 합을 구하는 프로그램을 작성하시오.\n",
        "a=int(input())\n",
        "b=int(input())\n",
        "c=0\n",
        "d=0\n",
        "for i in range(a,b):\n",
        "    if (i+1)%2==1:\n",
        "        c+=1\n",
        "        d+=i+1\n",
        "print(c,d)\n"
      ],
      "metadata": {
        "id": "gvshD5-W7k31",
        "colab": {
          "base_uri": "https://localhost:8080/"
        },
        "outputId": "97db7f27-7b3d-4a4d-e09c-65e90745e9b6"
      },
      "execution_count": 21,
      "outputs": [
        {
          "output_type": "stream",
          "name": "stdout",
          "text": [
            "0\n",
            "10\n",
            "5 20\n"
          ]
        }
      ]
    },
    {
      "cell_type": "code",
      "source": [
        "#14. 100 이하의 자연수중 3의 배수이거나 5의 배수이면서 15의 배수가 아닌 수들의 합을 구하시오.\n",
        "a=0\n",
        "for i in range(1,101):\n",
        "    if (i%3==0 or i%5==0) and i%15 != 0:\n",
        "        a=a+i\n",
        "print(a)\n"
      ],
      "metadata": {
        "id": "Sbq8gAi87maJ",
        "colab": {
          "base_uri": "https://localhost:8080/"
        },
        "outputId": "47681ced-3a3c-469b-b58a-d43d28600589"
      },
      "execution_count": 28,
      "outputs": [
        {
          "output_type": "stream",
          "name": "stdout",
          "text": [
            "2003\n"
          ]
        }
      ]
    },
    {
      "cell_type": "code",
      "source": [
        "#15. 100 이하의 임의의 양의 정수 n을 입력받아 1~100 사이에서 n의 배수와 n의 배수의 개수를 출력하시오.\n",
        "#예> 양의 정수를 입력하시오 : 15\n",
        "#15의 배수 : 15, 30, 45, 60, 75, 90\n",
        "#15의 배수의 개수 : 6\n",
        "a=int(input('양의 정수를 입력하시오 : '))\n",
        "print(\"%d의 배수 : \"%a,end='')\n",
        "b=0\n",
        "for i in range(1,101):\n",
        "    if i%a==0:\n",
        "        print(i,end=', ')\n",
        "        b+=1\n",
        "print(b)\n",
        "\n",
        "\n",
        "\n"
      ],
      "metadata": {
        "id": "DS9yiwdC7oED",
        "colab": {
          "base_uri": "https://localhost:8080/"
        },
        "outputId": "78dc641c-567c-45a5-c784-1d5ad341f99f"
      },
      "execution_count": 36,
      "outputs": [
        {
          "output_type": "stream",
          "name": "stdout",
          "text": [
            "양의 정수를 입력하시오 : 10\n",
            "10의 배수 : 10, 20, 30, 40, 50, 60, 70, 80, 90, "
          ]
        }
      ]
    },
    {
      "cell_type": "code",
      "source": [
        "#16. 1+2-3+4+5-6+7+8-9+...-99+100=?\n",
        "a=0\n",
        "for i in range(1,101):\n",
        "    a+=i\n",
        "print(a)\n"
      ],
      "metadata": {
        "id": "ccXjungL7q7k",
        "colab": {
          "base_uri": "https://localhost:8080/"
        },
        "outputId": "3beeb312-9193-4c4e-a131-d020691bba0b"
      },
      "execution_count": 37,
      "outputs": [
        {
          "output_type": "stream",
          "name": "stdout",
          "text": [
            "4950\n"
          ]
        }
      ]
    },
    {
      "cell_type": "code",
      "source": [
        "#17. 1+(1+2)+(1+2+3)+...+(1+2+3+...+100)=?\n",
        "a=0\n",
        "for i in range(1,101):\n",
        "    b=0\n",
        "    for j in range(1,i+1):\n",
        "        b+=j\n",
        "    a+=b\n",
        "print(a)"
      ],
      "metadata": {
        "id": "vy0klOx47sSm",
        "colab": {
          "base_uri": "https://localhost:8080/"
        },
        "outputId": "29457f88-2851-4b3c-ac55-191c1c4f46e5"
      },
      "execution_count": 48,
      "outputs": [
        {
          "output_type": "stream",
          "name": "stdout",
          "text": [
            "171700\n"
          ]
        }
      ]
    },
    {
      "cell_type": "code",
      "source": [
        "#18. 5명의 학생에 대한 번호, 중간 기말 점수를 정수 값으로 입력받아 총점, 평균(소수 둘째자리까지), 학점을 구하여 출력하시오. 평균이 같은 학생은 없다고 가정.\n",
        "a=[[]]\n",
        "for i in range(5):\n",
        "    for j in range(3):\n",
        "        \n"
      ],
      "metadata": {
        "id": "TBmOE3607t59"
      },
      "execution_count": null,
      "outputs": []
    },
    {
      "cell_type": "code",
      "source": [],
      "metadata": {
        "id": "YurV9Vx1tkjN"
      },
      "execution_count": null,
      "outputs": []
    },
    {
      "cell_type": "code",
      "source": [
        "#19. 하나의 점수를 입력받아 출력하시오. 단, 입력된 점수가 [0,100] 범위를 벗어나면 재입력 받으시오.\n"
      ],
      "metadata": {
        "id": "3AHnWNPz7vmd"
      },
      "execution_count": null,
      "outputs": []
    },
    {
      "cell_type": "code",
      "source": [
        "#20. 임의의 정수를 하나 입력받아 그 수가 소수인지를 판별하는 프로그램을 작성하시오. 소수란 1과 자기 자신 이외에는 나누어지지 않는 수를 말한다."
      ],
      "metadata": {
        "id": "XMYMS3567wyn"
      },
      "execution_count": null,
      "outputs": []
    }
  ]
}